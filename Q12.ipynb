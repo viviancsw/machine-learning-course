{
 "cells": [
  {
   "cell_type": "markdown",
   "metadata": {},
   "source": [
    "# Statistics on Animal Bites"
   ]
  },
  {
   "cell_type": "markdown",
   "metadata": {},
   "source": [
    "#### *Animal bites is a common problem around the US with high rate of incidents. A little insight into the statistics of aminal bites patterns may help people to identify potential danger and better protect themselves from those bites. *"
   ]
  },
  {
   "cell_type": "markdown",
   "metadata": {},
   "source": [
    "## Dataset"
   ]
  },
  {
   "cell_type": "markdown",
   "metadata": {},
   "source": [
    "[`The dataset`](https://www.kaggle.com/rtatman/animal-bites) is obtained from Kaggle, uploaded by Rachael Tatman.\n",
    "This dataset recorded over 9,000 animal bites occurred near Louisville, Kentucky from 1985 to 2017. The dataset includes information on animal species, breed, gender, color, and rabies test."
   ]
  },
  {
   "cell_type": "code",
   "execution_count": 102,
   "metadata": {},
   "outputs": [
    {
     "data": {
      "text/html": [
       "<div>\n",
       "<style>\n",
       "    .dataframe thead tr:only-child th {\n",
       "        text-align: right;\n",
       "    }\n",
       "\n",
       "    .dataframe thead th {\n",
       "        text-align: left;\n",
       "    }\n",
       "\n",
       "    .dataframe tbody tr th {\n",
       "        vertical-align: top;\n",
       "    }\n",
       "</style>\n",
       "<table border=\"1\" class=\"dataframe\">\n",
       "  <thead>\n",
       "    <tr style=\"text-align: right;\">\n",
       "      <th></th>\n",
       "      <th>bite_date</th>\n",
       "      <th>SpeciesIDDesc</th>\n",
       "      <th>BreedIDDesc</th>\n",
       "      <th>GenderIDDesc</th>\n",
       "      <th>color</th>\n",
       "      <th>vaccination_yrs</th>\n",
       "      <th>vaccination_date</th>\n",
       "      <th>victim_zip</th>\n",
       "      <th>AdvIssuedYNDesc</th>\n",
       "      <th>WhereBittenIDDesc</th>\n",
       "      <th>quarantine_date</th>\n",
       "      <th>DispositionIDDesc</th>\n",
       "      <th>head_sent_date</th>\n",
       "      <th>release_date</th>\n",
       "      <th>ResultsIDDesc</th>\n",
       "    </tr>\n",
       "  </thead>\n",
       "  <tbody>\n",
       "    <tr>\n",
       "      <th>0</th>\n",
       "      <td>1985-05-05 00:00:00</td>\n",
       "      <td>DOG</td>\n",
       "      <td>NaN</td>\n",
       "      <td>FEMALE</td>\n",
       "      <td>LIG. BROWN</td>\n",
       "      <td>1.0</td>\n",
       "      <td>1985-06-20 00:00:00</td>\n",
       "      <td>40229</td>\n",
       "      <td>NO</td>\n",
       "      <td>BODY</td>\n",
       "      <td>1985-05-05 00:00:00</td>\n",
       "      <td>UNKNOWN</td>\n",
       "      <td>NaN</td>\n",
       "      <td>NaN</td>\n",
       "      <td>UNKNOWN</td>\n",
       "    </tr>\n",
       "    <tr>\n",
       "      <th>1</th>\n",
       "      <td>1986-02-12 00:00:00</td>\n",
       "      <td>DOG</td>\n",
       "      <td>NaN</td>\n",
       "      <td>UNKNOWN</td>\n",
       "      <td>BRO &amp; BLA</td>\n",
       "      <td>NaN</td>\n",
       "      <td>NaN</td>\n",
       "      <td>40218</td>\n",
       "      <td>NO</td>\n",
       "      <td>BODY</td>\n",
       "      <td>1986-02-12 00:00:00</td>\n",
       "      <td>UNKNOWN</td>\n",
       "      <td>NaN</td>\n",
       "      <td>NaN</td>\n",
       "      <td>UNKNOWN</td>\n",
       "    </tr>\n",
       "    <tr>\n",
       "      <th>2</th>\n",
       "      <td>1987-05-07 00:00:00</td>\n",
       "      <td>DOG</td>\n",
       "      <td>NaN</td>\n",
       "      <td>UNKNOWN</td>\n",
       "      <td>NaN</td>\n",
       "      <td>NaN</td>\n",
       "      <td>NaN</td>\n",
       "      <td>40219</td>\n",
       "      <td>NO</td>\n",
       "      <td>BODY</td>\n",
       "      <td>1990-05-07 00:00:00</td>\n",
       "      <td>UNKNOWN</td>\n",
       "      <td>NaN</td>\n",
       "      <td>NaN</td>\n",
       "      <td>UNKNOWN</td>\n",
       "    </tr>\n",
       "    <tr>\n",
       "      <th>3</th>\n",
       "      <td>1988-10-02 00:00:00</td>\n",
       "      <td>DOG</td>\n",
       "      <td>NaN</td>\n",
       "      <td>MALE</td>\n",
       "      <td>BLA &amp; BRO</td>\n",
       "      <td>NaN</td>\n",
       "      <td>NaN</td>\n",
       "      <td>NaN</td>\n",
       "      <td>NO</td>\n",
       "      <td>BODY</td>\n",
       "      <td>1990-10-02 00:00:00</td>\n",
       "      <td>UNKNOWN</td>\n",
       "      <td>NaN</td>\n",
       "      <td>NaN</td>\n",
       "      <td>UNKNOWN</td>\n",
       "    </tr>\n",
       "    <tr>\n",
       "      <th>4</th>\n",
       "      <td>1989-08-29 00:00:00</td>\n",
       "      <td>DOG</td>\n",
       "      <td>NaN</td>\n",
       "      <td>FEMALE</td>\n",
       "      <td>BLK-WHT</td>\n",
       "      <td>NaN</td>\n",
       "      <td>NaN</td>\n",
       "      <td>NaN</td>\n",
       "      <td>NO</td>\n",
       "      <td>BODY</td>\n",
       "      <td>NaN</td>\n",
       "      <td>UNKNOWN</td>\n",
       "      <td>NaN</td>\n",
       "      <td>NaN</td>\n",
       "      <td>UNKNOWN</td>\n",
       "    </tr>\n",
       "  </tbody>\n",
       "</table>\n",
       "</div>"
      ],
      "text/plain": [
       "             bite_date SpeciesIDDesc BreedIDDesc GenderIDDesc       color  \\\n",
       "0  1985-05-05 00:00:00           DOG         NaN       FEMALE  LIG. BROWN   \n",
       "1  1986-02-12 00:00:00           DOG         NaN      UNKNOWN   BRO & BLA   \n",
       "2  1987-05-07 00:00:00           DOG         NaN      UNKNOWN         NaN   \n",
       "3  1988-10-02 00:00:00           DOG         NaN         MALE   BLA & BRO   \n",
       "4  1989-08-29 00:00:00           DOG         NaN       FEMALE     BLK-WHT   \n",
       "\n",
       "   vaccination_yrs     vaccination_date victim_zip AdvIssuedYNDesc  \\\n",
       "0              1.0  1985-06-20 00:00:00      40229              NO   \n",
       "1              NaN                  NaN      40218              NO   \n",
       "2              NaN                  NaN      40219              NO   \n",
       "3              NaN                  NaN        NaN              NO   \n",
       "4              NaN                  NaN        NaN              NO   \n",
       "\n",
       "  WhereBittenIDDesc      quarantine_date DispositionIDDesc head_sent_date  \\\n",
       "0              BODY  1985-05-05 00:00:00           UNKNOWN            NaN   \n",
       "1              BODY  1986-02-12 00:00:00           UNKNOWN            NaN   \n",
       "2              BODY  1990-05-07 00:00:00           UNKNOWN            NaN   \n",
       "3              BODY  1990-10-02 00:00:00           UNKNOWN            NaN   \n",
       "4              BODY                  NaN           UNKNOWN            NaN   \n",
       "\n",
       "  release_date ResultsIDDesc  \n",
       "0          NaN       UNKNOWN  \n",
       "1          NaN       UNKNOWN  \n",
       "2          NaN       UNKNOWN  \n",
       "3          NaN       UNKNOWN  \n",
       "4          NaN       UNKNOWN  "
      ]
     },
     "execution_count": 102,
     "metadata": {},
     "output_type": "execute_result"
    }
   ],
   "source": [
    "import numpy as np\n",
    "import pandas as pd\n",
    "import matplotlib.pyplot as plt\n",
    "data = pd.read_csv(\"Health_AnimalBites.csv\")\n",
    "data.head()"
   ]
  },
  {
   "cell_type": "markdown",
   "metadata": {},
   "source": [
    "## Animals that bite"
   ]
  },
  {
   "cell_type": "code",
   "execution_count": 103,
   "metadata": {
    "scrolled": true
   },
   "outputs": [
    {
     "data": {
      "image/png": "[encoded data removed]",
      "text/plain": [
       "<matplotlib.figure.Figure at 0x117a38da0>"
      ]
     },
     "metadata": {},
     "output_type": "display_data"
    }
   ],
   "source": [
    "spec = data.SpeciesIDDesc\n",
    "spec = spec.dropna()\n",
    "plt.figure(figsize=(10,5))\n",
    "plt.hist(spec, fc='b', width=0.5)\n",
    "plt.ylabel('number of incidents')\n",
    "plt.show()"
   ]
  },
  {
   "cell_type": "markdown",
   "metadata": {},
   "source": [
    "Suprisingly, most people are bitten by dogs and cats, followed by bats."
   ]
  },
  {
   "cell_type": "markdown",
   "metadata": {},
   "source": [
    "## TOP 10 dog breeds you would want to avoid"
   ]
  },
  {
   "cell_type": "code",
   "execution_count": 113,
   "metadata": {},
   "outputs": [
    {
     "data": {
      "text/html": [
       "<div>\n",
       "<style>\n",
       "    .dataframe thead tr:only-child th {\n",
       "        text-align: right;\n",
       "    }\n",
       "\n",
       "    .dataframe thead th {\n",
       "        text-align: left;\n",
       "    }\n",
       "\n",
       "    .dataframe tbody tr th {\n",
       "        vertical-align: top;\n",
       "    }\n",
       "</style>\n",
       "<table border=\"1\" class=\"dataframe\">\n",
       "  <thead>\n",
       "    <tr style=\"text-align: right;\">\n",
       "      <th></th>\n",
       "      <th>number of incidents</th>\n",
       "    </tr>\n",
       "  </thead>\n",
       "  <tbody>\n",
       "    <tr>\n",
       "      <th>PIT BULL</th>\n",
       "      <td>1101</td>\n",
       "    </tr>\n",
       "    <tr>\n",
       "      <th>GERM SHEPHERD</th>\n",
       "      <td>327</td>\n",
       "    </tr>\n",
       "    <tr>\n",
       "      <th>LABRADOR RETRIV</th>\n",
       "      <td>253</td>\n",
       "    </tr>\n",
       "    <tr>\n",
       "      <th>BOXER</th>\n",
       "      <td>181</td>\n",
       "    </tr>\n",
       "    <tr>\n",
       "      <th>CHICHAUHUA</th>\n",
       "      <td>165</td>\n",
       "    </tr>\n",
       "    <tr>\n",
       "      <th>SHIH TZU</th>\n",
       "      <td>119</td>\n",
       "    </tr>\n",
       "    <tr>\n",
       "      <th>BEAGLE</th>\n",
       "      <td>115</td>\n",
       "    </tr>\n",
       "    <tr>\n",
       "      <th>ROTTWEILER</th>\n",
       "      <td>86</td>\n",
       "    </tr>\n",
       "    <tr>\n",
       "      <th>AAUST. TERR.</th>\n",
       "      <td>78</td>\n",
       "    </tr>\n",
       "    <tr>\n",
       "      <th>DACHSHUND</th>\n",
       "      <td>67</td>\n",
       "    </tr>\n",
       "  </tbody>\n",
       "</table>\n",
       "</div>"
      ],
      "text/plain": [
       "                 number of incidents\n",
       "PIT BULL                        1101\n",
       "GERM SHEPHERD                    327\n",
       "LABRADOR RETRIV                  253\n",
       "BOXER                            181\n",
       "CHICHAUHUA                       165\n",
       "SHIH TZU                         119\n",
       "BEAGLE                           115\n",
       "ROTTWEILER                        86\n",
       "AAUST. TERR.                      78\n",
       "DACHSHUND                         67"
      ]
     },
     "execution_count": 113,
     "metadata": {},
     "output_type": "execute_result"
    }
   ],
   "source": [
    "breed = data.BreedIDDesc[data.SpeciesIDDesc == \"DOG\"]\n",
    "breed = breed.dropna()\n",
    "breed_con = breed.value_counts()\n",
    "breed_con.to_frame(name='number of incidents').head(10)"
   ]
  },
  {
   "cell_type": "markdown",
   "metadata": {},
   "source": [
    "Certain breeds of dogs are a lot more ferocious than others. Be aware of those dogs next time."
   ]
  },
  {
   "cell_type": "markdown",
   "metadata": {},
   "source": [
    "## Female VS Male"
   ]
  },
  {
   "cell_type": "code",
   "execution_count": 149,
   "metadata": {},
   "outputs": [
    {
     "data": {
      "image/png": "[encoded data removed]",
      "text/plain": [
       "<matplotlib.figure.Figure at 0x1178cbe10>"
      ]
     },
     "metadata": {},
     "output_type": "display_data"
    }
   ],
   "source": [
    "animal = np.array(('dog', 'cat'))\n",
    "dog_s = data.GenderIDDesc[data.SpeciesIDDesc == \"DOG\"]\n",
    "cat_s = data.GenderIDDesc[data.SpeciesIDDesc == \"CAT\"]\n",
    "dog_s = dog_s.value_counts() #count number by gender\n",
    "cat_s = cat_s.value_counts()\n",
    "male = np.array((dog_s[0]/(dog_s[0]+dog_s[1]),cat_s[0]/(cat_s[0]+cat_s[1]))) #put percentage in new arrays\n",
    "female = np.array((dog_s[1]/(dog_s[0]+dog_s[1]),cat_s[1]/(cat_s[0]+cat_s[1])))\n",
    "#male = male * 100 / male.sum() #calculate percentage\n",
    "#female = female * 100 / female.sum()\n",
    "plt.figure(figsize=(6,6))\n",
    "plt.bar(animal, male*100, label='Male')\n",
    "plt.bar(animal, female*100, bottom=male*100, label='Female')\n",
    "plt.legend()\n",
    "plt.ylabel('percentage(%)')\n",
    "plt.show()"
   ]
  },
  {
   "cell_type": "markdown",
   "metadata": {},
   "source": [
    "Male dogs and cats are more aggressive than females. "
   ]
  }
 ],
 "metadata": {
  "kernelspec": {
   "display_name": "Python 3",
   "language": "python",
   "name": "python3"
  },
  "language_info": {
   "codemirror_mode": {
    "name": "ipython",
    "version": 3
   },
   "file_extension": ".py",
   "mimetype": "text/x-python",
   "name": "python",
   "nbconvert_exporter": "python",
   "pygments_lexer": "ipython3",
   "version": "3.6.3"
  }
 },
 "nbformat": 4,
 "nbformat_minor": 2
}
