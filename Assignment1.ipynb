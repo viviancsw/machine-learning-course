{
 "cells": [
  {
   "cell_type": "markdown",
   "metadata": {},
   "source": [
    "# Assignment 1 - Probability, Linear Algebra, Programming, and Git\n",
    "\n",
    "## *Shiwen Chen*\n",
    "Netid:  *sc538*"
   ]
  },
  {
   "cell_type": "markdown",
   "metadata": {},
   "source": [
    "# Probability and Statistics Theory"
   ]
  },
  {
   "cell_type": "markdown",
   "metadata": {
    "collapsed": true
   },
   "source": [
    "## 1\n",
    "Let $f(x) = \\begin{cases}\n",
    "                0           & x < 0  \\\\\n",
    "                \\alpha x^2  & 0 \\leq x \\leq 2 \\\\\n",
    "                0           & 2 < x\n",
    "            \\end{cases}$\n",
    "            \n",
    "For what value of $\\alpha$ is $f(x)$ a valid probability density function?\n",
    "\n",
    "*Note: for all assignments, write out all equations and math for all assignments using markdown and [LaTeX](https://tobi.oetiker.ch/lshort/lshort.pdf) and show all work*"
   ]
  },
  {
   "cell_type": "markdown",
   "metadata": {},
   "source": [
    "**ANSWER**\n",
    "\n",
    "$\\int f(x)dx = 1$\n",
    "\n",
    "$\\int_{0}^{2}ax^2dx = \\left.\\frac{1}{3}ax^3 \\right|_{0}^{2} = \\frac{1}{3}2^3a - 0 = 1$\n",
    "\n",
    "$a = 0.375 $\n"
   ]
  },
  {
   "cell_type": "markdown",
   "metadata": {},
   "source": [
    "## 2\n",
    "What is the cumulative distribution function (CDF) that corresponds to the following probability distribution function? Please state the value of the CDF for all possible values of $x$.\n",
    "\n",
    "$f(x) = \\begin{cases}\n",
    "    \\frac{1}{3} & 0 < x < 3 \\\\\n",
    "    0           & \\text{otherwise}\n",
    "    \\end{cases}$"
   ]
  },
  {
   "cell_type": "markdown",
   "metadata": {},
   "source": [
    "**ANSWER**\n",
    "\n",
    "The CDF $F(x) = \\int_{-\\infty}^{x}f(t)dt$\n",
    "\n",
    "\n",
    "$F(x) = \\begin{cases}\n",
    "    0           & x \\leq 0 \\\\\n",
    "    \\frac{1}{3}x & 0 < x < 3 \\\\\n",
    "    1           & x \\geq 3           \n",
    "    \\end{cases}$"
   ]
  },
  {
   "cell_type": "markdown",
   "metadata": {},
   "source": [
    "## 3\n",
    "For the probability distribution function for the random variable $X$,\n",
    "\n",
    "$f(x) = \\begin{cases}\n",
    "    \\frac{1}{3} & 0 < x < 3 \\\\\n",
    "    0           & \\text{otherwise}\n",
    "    \\end{cases}$\n",
    "    \n",
    "what is the (a) expected value and (b) variance of $X$. *Show all work*."
   ]
  },
  {
   "cell_type": "markdown",
   "metadata": {},
   "source": [
    "**ANSWER**\n",
    "\n",
    "(a) Expected value:\n",
    "\n",
    "$E(x) = \\int_R xf(x)dx = \\left.\\frac{1}{6}x^2 \\right|_{0}^{3} = 1.5$\n",
    "\n",
    "(b) Variance:\n",
    "\n",
    "$var(x) = E(x^2) - [E(x)]^2$\n",
    "\n",
    "$E(x^2) = \\int_R x^2f(x)dx = \\left.\\frac{1}{9}x^3\\right|_{0}^{3} = 3$\n",
    "\n",
    "$var(x) = 3 - 1.5^2 = 0.75$\n"
   ]
  },
  {
   "cell_type": "markdown",
   "metadata": {},
   "source": [
    "## 4\n",
    "Consider the following table of data that provides the values of a discrete data vector $\\mathbf{x}$ of samples from the random variable $X$, where each entry in $\\mathbf{x}$ is given as $x_i$.\n",
    "\n",
    "*Table 1. Dataset N=5 observations*\n",
    "\n",
    "|        | $x_0$ | $x_1$ | $x_2$ | $x_3$ | $x_4$ |\n",
    "|------  |-------|-------|-------|-------|-------|\n",
    "|$\\textbf{x}$| 2     | 3     | 10    | -1    | -1    |\n",
    "\n",
    "What is the (a) mean, (b) variance, and the  of the data? \n",
    "\n",
    "*Show all work. Your answer should include the definition of mean, median, and variance in the context of discrete data.*"
   ]
  },
  {
   "cell_type": "markdown",
   "metadata": {},
   "source": [
    "**ANSWER**\n",
    "\n",
    "(a) Mean\n",
    "\n",
    "Mean is the average of all sample values\n",
    "\n",
    "$\\mu = \\frac{1}{n}\\sum_{i=0}^{n} x_n = \\frac{1}{5} (2 + 3 + 10 - 1 - 1) = 2.6$\n",
    "\n",
    "\n",
    "(b) Variance\n",
    "\n",
    "Variance is the expectation of sample values' suqared deviation from the mean.\n",
    "\n",
    "$var(x) = \\frac{1}{n}\\sum_{i=0}^{n} (x_n - \\mu)^2 = \\frac{1}{5} (0.6^2 + 0.4^2 + 7.4^2 + 3.6^2 + 3.6^2) = 16.24$\n",
    "\n",
    "\n",
    "(c) Median\n",
    "\n",
    "Median is the 50% precentile of data. In this case, median = 2"
   ]
  },
  {
   "cell_type": "markdown",
   "metadata": {},
   "source": [
    "## 5\n",
    "Review of counting from probability theory. \n",
    "\n",
    "(a) How many different 7-place licence plates are possible if the first 3 places only contain letters and te last 4 only contain numbers?\n",
    "\n",
    "(b) How many different batting orders are possible for a baseball team with 9 players?\n",
    "\n",
    "(c) How many batting orders of 5 players are possible for a team with 9 players total?\n",
    "\n",
    "(d) Let's assume this class has 26 students and we want to form project teams. How many unique teams of 3 are possible?\n",
    "\n",
    "*Hint: For each problem, determine if order matters, and if it should be calculated with or without replacement.*"
   ]
  },
  {
   "cell_type": "markdown",
   "metadata": {},
   "source": [
    "**ANSWER**\n",
    "\n",
    "(a) The order doesn't matter and it should be calculated with replcement. \n",
    "\n",
    "$26^3 \\times 10^4 = 175,760,000$ combinations\n",
    "\n",
    "(b) The order matters and it should be calculated without replacement\n",
    "\n",
    "$P_{9}^{9} = 362,880$ combinations\n",
    "\n",
    "(c) The order matters and it should be calculated without replacement\n",
    "\n",
    "$P_{9}^{5} = 15,120$ combinations\n",
    "\n",
    "(d) The order doesn't matter and it should be calculated without replcement.\n",
    "\n",
    "$C_{26}^{3} = 2,600$ combinations"
   ]
  },
  {
   "cell_type": "markdown",
   "metadata": {},
   "source": [
    "# Linear Algebra"
   ]
  },
  {
   "cell_type": "markdown",
   "metadata": {},
   "source": [
    "## 6\n",
    "**Matrix manipulations and multiplication**. Machine learning involves working with many matrices, so this exercise will provide you with the opportunity to practice those skills.\n",
    "\n",
    "Let\n",
    "$\\mathbf{A} =  \\begin{bmatrix}\n",
    "1 & 2 & 3 \\\\\n",
    "2 & 4 & 5 \\\\\n",
    "3 & 5 & 6 \n",
    "\\end{bmatrix}$, $\\mathbf{b} =  \\begin{bmatrix}\n",
    "-1  \\\\\n",
    "3  \\\\\n",
    "8  \n",
    "\\end{bmatrix}$, $\\mathbf{c} =  \\begin{bmatrix}\n",
    "4  \\\\\n",
    "-3  \\\\\n",
    "6  \n",
    "\\end{bmatrix}$, and $\\mathbf{I} =  \\begin{bmatrix}\n",
    "1 & 0 & 0 \\\\\n",
    "0 & 1 & 0 \\\\\n",
    "0 & 0 & 1 \n",
    "\\end{bmatrix}$\n",
    "\n",
    "Compute the following or indicate that it cannot be computed:\n",
    "\n",
    "1. $\\mathbf{A}\\mathbf{A}$\n",
    "2. $\\mathbf{A}\\mathbf{A}^T$\n",
    "3. $\\mathbf{A}\\mathbf{b}$\n",
    "4. $\\mathbf{A}\\mathbf{b}^T$\n",
    "5. $\\mathbf{b}\\mathbf{A}$\n",
    "6. $\\mathbf{b}^T\\mathbf{A}$\n",
    "7. $\\mathbf{b}\\mathbf{b}$\n",
    "8. $\\mathbf{b}^T\\mathbf{b}$\n",
    "9. $\\mathbf{b}\\mathbf{b}^T$\n",
    "10. $\\mathbf{b} + \\mathbf{c}^T$\n",
    "11. $\\mathbf{b}^T\\mathbf{b}^T$\n",
    "12. $\\mathbf{A}^{-1}\\mathbf{b}$\n",
    "13. $\\mathbf{A}\\circ\\mathbf{A}$\n",
    "14. $\\mathbf{b}\\circ\\mathbf{c}$\n",
    "\n",
    "*Note: The element-wise (or Hadamard) product is the product of each element in one matrix with the corresponding element in another matrix, and is represented by the symbol \"$\\circ$\".*"
   ]
  },
  {
   "cell_type": "markdown",
   "metadata": {},
   "source": [
    "**ANSWER**\n",
    "\n"
   ]
  },
  {
   "cell_type": "code",
   "execution_count": 173,
   "metadata": {},
   "outputs": [
    {
     "name": "stdout",
     "output_type": "stream",
     "text": [
      "1.\n",
      " [[14 25 31]\n",
      " [25 45 56]\n",
      " [31 56 70]] \n",
      "\n",
      "2.\n",
      " [[14 25 31]\n",
      " [25 45 56]\n",
      " [31 56 70]] \n",
      "\n",
      "3.\n",
      " [[29]\n",
      " [50]\n",
      " [60]] \n",
      "\n",
      "4. Dimension not aligned. Cannot be computed.\n",
      "\n",
      "5. Dimension not aligned. Cannot be computed.\n",
      "\n",
      "6.\n",
      " [[29 50 60]] \n",
      "\n",
      "7. Dimension not aligned. Cannot be computed.\n",
      "\n",
      "8.\n",
      " [[74]] \n",
      "\n",
      "9.\n",
      " [[ 1 -3 -8]\n",
      " [-3  9 24]\n",
      " [-8 24 64]] \n",
      "\n",
      "10. Dimension not aligned. Cannot be computed.\n",
      "\n",
      "11. Dimension not aligned. Cannot be computed.\n",
      "\n",
      "12.\n",
      " [[ 6.00]\n",
      " [ 4.00]\n",
      " [-5.00]] \n",
      "\n",
      "13.\n",
      " [[ 1  4  9]\n",
      " [ 4 16 25]\n",
      " [ 9 25 36]] \n",
      "\n",
      "14.\n",
      " [[-4]\n",
      " [-9]\n",
      " [48]] \n",
      "\n"
     ]
    }
   ],
   "source": [
    "import numpy as np\n",
    "#Q1\n",
    "A = np.matrix([[1,2,3], [2,4,5], [3,5,6]])\n",
    "print(\"1.\\n\", A.dot(A),\"\\n\")\n",
    "#Q2\n",
    "print(\"2.\\n\", A.dot(A.T),\"\\n\")\n",
    "#Q3\n",
    "b = np.matrix([[-1], [3], [8]])\n",
    "print(\"3.\\n\", A.dot(b),\"\\n\")\n",
    "#Q4\n",
    "print(\"4. Dimension not aligned. Cannot be computed.\\n\")\n",
    "#Q5\n",
    "print(\"5. Dimension not aligned. Cannot be computed.\\n\")\n",
    "#Q6\n",
    "print(\"6.\\n\", b.T.dot(A),\"\\n\")\n",
    "#Q7\n",
    "print(\"7. Dimension not aligned. Cannot be computed.\\n\")\n",
    "#Q8\n",
    "print(\"8.\\n\", b.T.dot(b),\"\\n\")\n",
    "#Q9\n",
    "print(\"9.\\n\", b.dot(b.T),\"\\n\")\n",
    "#Q10\n",
    "print(\"10. Dimension not aligned. Cannot be computed.\\n\")\n",
    "#Q11\n",
    "print(\"11. Dimension not aligned. Cannot be computed.\\n\")\n",
    "#Q12\n",
    "print(\"12.\\n\", A.I.dot(b),\"\\n\")\n",
    "#Q13\n",
    "print(\"13.\\n\", np.multiply(A,A),\"\\n\")\n",
    "#Q14\n",
    "c = np.matrix([[4], [-3], [6]])\n",
    "print(\"14.\\n\", np.multiply(b,c),\"\\n\")"
   ]
  },
  {
   "cell_type": "markdown",
   "metadata": {},
   "source": [
    "## 6\n",
    "**Eigenvectors and eigenvalues**. Eigenvectors and eigenvalues are useful for some machine learning algorithms, but the concepts take time to solidly grasp. For an intuitive review of these concepts, explore this [interactive website at Setosa.io](http://setosa.io/ev/eigenvectors-and-eigenvalues/). Also, the series of linear algebra videos by Grant Sanderson of 3Brown1Blue are excellent and can be viewed on youtube [here](https://www.youtube.com/playlist?list=PLZHQObOWTQDPD3MizzM2xVFitgF8hE_ab).\n",
    "\n",
    "1. Calculate the eigenvalues and corresponding eigenvectors of matrix $\\mathbf{A}$ above, from the last question.\n",
    "2. Choose one of the eigenvector/eigenvalue pairs, $\\mathbf{v}$ and $\\lambda$, and show that $\\mathbf{A} \\mathbf{v} = \\lambda \\mathbf{v}$. Also show that this relationship extends to higher orders: $\\mathbf{A} \\mathbf{A} \\mathbf{v} = \\lambda^2 \\mathbf{v}$\n",
    "3. Show that the eigenvectors are orthogonal to one another (e.g. their inner product is zero). This is true for real, symmetric matrices."
   ]
  },
  {
   "cell_type": "markdown",
   "metadata": {},
   "source": [
    "**ANSWER**"
   ]
  },
  {
   "cell_type": "code",
   "execution_count": 145,
   "metadata": {},
   "outputs": [
    {
     "name": "stdout",
     "output_type": "stream",
     "text": [
      "1.\n",
      "\n",
      "Eigenvalue1: 11.34, Eigenvector1: [[-0.33 -0.59 -0.74]]^T\n",
      "\n",
      "Eigenvalue2: -0.52, Eigenvector2: [[-0.74 -0.33  0.59]]^T\n",
      "\n",
      "Eigenvalue3: 0.17, Eigenvector3: [[ 0.59 -0.74  0.33]]^T\n",
      "\n",
      "2.\n",
      "For Eigenvector1(v) and eigenvalue1(l), Av= [[-3.72 -6.70 -8.36]] ^T\n",
      "and lv= [[-3.72 -6.70 -8.36]] ^T\n",
      "Av=lv\n",
      "\n",
      "In higher orders, AAv= [[-42.21 -76.07 -94.85]] ^T\n",
      "and l^2v= [[-42.21 -76.07 -94.85]] ^T\n",
      "AAv=l^2v\n",
      "\n",
      "3.\n",
      "For the 3 Eigenvectors v1,v2,v3\n",
      "v1·v2 = -0.00, v1·v3 = -0.00, v2·v3 = -0.00\n",
      "The inner product between each two of the eigenvectors is ~0, therefore they are orthogonal to on each another.\n"
     ]
    }
   ],
   "source": [
    "import numpy as np\n",
    "np.set_printoptions(formatter={'float': '{: .2f}'.format})\n",
    "#Q1\n",
    "A = np.matrix([[1,2,3], [2,4,5], [3,5,6]])\n",
    "l,x=np.linalg.eig(A)  #l is the eigenvalue, x is the eignvector\n",
    "print(\"1.\\n\")\n",
    "for i in range(0,3):\n",
    "    print(\"Eigenvalue{}: {:.2f}, Eigenvector{}: {}^T\\n\".format(i+1,l[i],i+1,x[:,i].T))\n",
    "#Q2\n",
    "print(\"2.\\nFor Eigenvector1(v) and eigenvalue1(l), Av=\", A.dot(x[:,0]).T,\"^T\")\n",
    "print(\"and lv=\", l[0]*x[:,0].T,\"^T\\nAv=lv\")\n",
    "print(\"\\nIn higher orders, AAv=\", A.dot(A).dot(x[:,0]).T,\"^T\")\n",
    "print(\"and l^2v=\", l[0]**2*x[:,0].T,\"^T\\nAAv=l^2v\\n\")\n",
    "#Q3\n",
    "print(\"3.\\nFor the 3 Eigenvectors v1,v2,v3\")\n",
    "#v1 = np.array((x[0,0],x[1,0],x[2,0]))\n",
    "#v2 = np.array((x[0,1],x[1,1],x[2,1]))\n",
    "#v3 = np.array((x[0,2],x[1,2],x[2,2]))\n",
    "v1 = np.asarray(x[:,0].T)\n",
    "v2 = np.asarray(x[:,1].T)\n",
    "v3 = np.asarray(x[:,2].T)\n",
    "a = np.inner(v1,v2)\n",
    "b = np.inner(v1,v3)\n",
    "c = np.inner(v3,v2)\n",
    "print(\"v1·v2 = {:.2f}, v1·v3 = {:.2f}, v2·v3 = {:.2f}\".format(a[0,0],b[0,0],c[0,0]))\n",
    "print(\"The inner product between each two of the eigenvectors is ~0, therefore they are orthogonal to on each another.\")"
   ]
  },
  {
   "cell_type": "markdown",
   "metadata": {},
   "source": [
    "# Numerical Programming"
   ]
  },
  {
   "cell_type": "markdown",
   "metadata": {},
   "source": [
    "## 7\n",
    "Speed comparison between vectorized and non-vectorized code. Begin by creating an array of 10 million random numbers using the numpy random.randn module. Compute the sum of the squares first in a for loop, then using Numpy's `dot` module. Time how long it takes to compute each and report the results and report the output. How many times faster is the vectorized code than the for loop approach?\n",
    "\n",
    "*Note: all code should be well commented, properly formatted, and your answers should be output using the `print()` function as follows (where the # represents your answers, to a reasonable precision):\n",
    "\n",
    "`Time [sec] (non-vectorized): ######`\n",
    "\n",
    "`Time [sec] (vectorized):     ######`\n",
    "\n",
    "`The vectorized code is ##### times faster than the vectorized code`"
   ]
  },
  {
   "cell_type": "markdown",
   "metadata": {},
   "source": [
    "**ANSWER**"
   ]
  },
  {
   "cell_type": "code",
   "execution_count": 120,
   "metadata": {},
   "outputs": [
    {
     "name": "stdout",
     "output_type": "stream",
     "text": [
      "Time [sec] (non-vectorized):2.2940\n",
      "Time [sec] (vectorized): 0.0050\n",
      " The vectorized code is 456.1 times faster than the vectorized code\n"
     ]
    }
   ],
   "source": [
    "import numpy as np\n",
    "import time\n",
    "\n",
    "# Generate the random samples\n",
    "a = np.random.randn(10000000)\n",
    "# Compute the sum of squares the non-vectorized way (using a for loop)\n",
    "start = time.clock()\n",
    "s = 0\n",
    "for i in a:\n",
    "    s += i*i\n",
    "time1 = time.clock() - start\n",
    "# Compute the sum of squares the vectorized way (using numpy)\n",
    "start = time.clock()\n",
    "d = a.dot(a)\n",
    "time2 = time.clock() - start\n",
    "# Print the results\n",
    "print('Time [sec] (non-vectorized):{:.4f}\\nTime [sec] (vectorized): {:.4f}\\n \\\n",
    "The vectorized code is {:.1f} times faster than the vectorized code'.format(time1,time2,time1/time2))"
   ]
  },
  {
   "cell_type": "markdown",
   "metadata": {},
   "source": [
    "## 8\n",
    "One popular Agile development framework is Scrum (a paradigm recommended for data science projects). It emphasizes the continual evolution of code for projects, becoming progressively better, but starting with a quickly developed minimum viable product. This often means that code written early on is not optimized, and that's a good thing - it's best to get it to work first before optimizing. Imagine that you wrote the following code during a sprint towards getting an end-to-end system working. Vectorize the following code and show the difference in speed between the current implementation and a vectorized version.\n",
    "\n",
    "The function below computes the function $f(x,y) = x^2 - 2 y^2$ and determines whether this quantity is above or below a given threshold, `thresh=0`. This is done for $x,y \\in \\{-4,4\\}$, over a 2,000-by-2,000 grid covering that domain.\n",
    "\n",
    "(a) Vectorize this code and demonstrate (as in the last exercise) the speed increase through vectorization and (b) plot the resulting data - both the function $f(x,y)$ and the thresholded output - using [`imshow`](https://matplotlib.org/api/_as_gen/matplotlib.pyplot.imshow.html?highlight=matplotlib%20pyplot%20imshow#matplotlib.pyplot.imshow) from `matplotlib`.\n",
    "\n",
    "*Hint: look at the `numpy` [`meshgrid`](https://docs.scipy.org/doc/numpy-1.13.0/reference/generated/numpy.meshgrid.html) documentation*"
   ]
  },
  {
   "cell_type": "code",
   "execution_count": 189,
   "metadata": {},
   "outputs": [
    {
     "name": "stdout",
     "output_type": "stream",
     "text": [
      "Time [sec] (non-vectorized):5.8147\n",
      "Time [sec] (vectorized): 0.0382\n",
      " The vectorized code is 152.1 times faster than the vectorized code\n"
     ]
    },
    {
     "data": {
      "image/png": "[encoded data removed]",
      "text/plain": [
       "<matplotlib.figure.Figure at 0x10f0e7ac8>"
      ]
     },
     "metadata": {},
     "output_type": "display_data"
    },
    {
     "name": "stdout",
     "output_type": "stream",
     "text": [
      "Yellow = TRUE  Purple = FALSE\n"
     ]
    }
   ],
   "source": [
    "import numpy as np\n",
    "import time\n",
    "import matplotlib.pyplot as plt\n",
    "\n",
    "# Initialize variables for this exerise\n",
    "thresh = 0\n",
    "x = np.arange(-4,4+8/2000,8/2000)\n",
    "y = np.arange(-4,4+8/2000,8/2000)\n",
    "f_1 = np.eye(2000)\n",
    "f_1 = (f_1 > 0)\n",
    "x_2,y_2 = np.meshgrid (x,y)\n",
    "#Nonvectorized implementation\n",
    "start = time.clock()\n",
    "for i in range(0,2000):\n",
    "    for j in range(0,2000):\n",
    "        f_1[i,j] = (x[i]**2-2*y[j]**2 > thresh)\n",
    "time1 = time.clock() - start\n",
    "# Vectorized implementation\n",
    "start = time.clock()\n",
    "f_2 = np.subtract(np.multiply(x_2,x_2),2*np.multiply(y_2,y_2))\n",
    "f_2 = (f_2 > thresh)\n",
    "time2 = time.clock() - start\n",
    "# Print the time for each and the speed increase\n",
    "print('Time [sec] (non-vectorized):{:.4f}\\nTime [sec] (vectorized): {:.4f}\\n \\\n",
    "The vectorized code is {:.1f} times faster than the vectorized code'.format(time1,time2,time1/time2))\n",
    "# Plot the result\n",
    "plt.imshow(f_2)\n",
    "plt.xticks([i*250 for i in range(9)],[i for i in range(-4,4,1)])\n",
    "plt.yticks([i*250 for i in range(9)],[i for i in range(-4,4,1)])\n",
    "plt.show()\n",
    "print(\"Yellow = TRUE  Purple = FALSE\")"
   ]
  },
  {
   "cell_type": "markdown",
   "metadata": {},
   "source": [
    "## 9\n",
    "This exercise will walk through some basic numerical programming exercises.\n",
    "1. Synthesize $n=10^4$ normally distributed data points with mean $\\mu=2$ and a standard deviation of $\\sigma=1$. Call these observations from a random variable $X$, and call the vector of observations that you generate, $\\textbf{x}$.\n",
    "2. Calculate the mean and standard deviation of $\\textbf{x}$ to validate (1) and provide the result to a precision of four significant figures.\n",
    "3. Plot a histogram of the data in $\\textbf{x}$ with 30 bins\n",
    "4. What is the 90th percentile of $\\textbf{x}$? The 90th percentile is the value below which 90% of observations can be found.\n",
    "5. What is the 99th percentile of $\\textbf{x}$?\n",
    "6. Now synthesize $n=10^4$ normally distributed data points with mean $\\mu=0$ and a standard deviation of $\\sigma=3$. Call these observations from a random variable $Y$, and call the vector of observations that you generate, $\\textbf{y}$.\n",
    "7. Plot the histogram of the data in $\\textbf{y}$ on a (new) plot with the histogram of $\\textbf{x}$, so that both histograms can be seen and compared.\n",
    "8. Using the observations from $\\textbf{x}$ and $\\textbf{y}$, estimate $E[XY]$"
   ]
  },
  {
   "cell_type": "markdown",
   "metadata": {},
   "source": [
    "**ANSWER**"
   ]
  },
  {
   "cell_type": "code",
   "execution_count": 141,
   "metadata": {},
   "outputs": [
    {
     "name": "stdout",
     "output_type": "stream",
     "text": [
      "The mean is 2.018 and the standard deviation is 1.006\n"
     ]
    },
    {
     "data": {
      "image/png": "[encoded data removed]",
      "text/plain": [
       "<matplotlib.figure.Figure at 0x124813f28>"
      ]
     },
     "metadata": {},
     "output_type": "display_data"
    },
    {
     "name": "stdout",
     "output_type": "stream",
     "text": [
      "The 90th percentile is 3.31, and he 99th percentile is 4.29 \n"
     ]
    },
    {
     "data": {
      "image/png": "[encoded data removed]",
      "text/plain": [
       "<matplotlib.figure.Figure at 0x1248ed400>"
      ]
     },
     "metadata": {},
     "output_type": "display_data"
    },
    {
     "name": "stdout",
     "output_type": "stream",
     "text": [
      "E[XY] is estimated to be 0.00\n"
     ]
    }
   ],
   "source": [
    "import numpy as np\n",
    "import matplotlib.pyplot as plt\n",
    "# 1\n",
    "x = np.random.normal(2,1,10000)\n",
    "# 2\n",
    "print(\"The mean is {:.3f} and the standard deviation is {:.3f}\".format(np.mean(x),np.std(x)))\n",
    "# 3\n",
    "plt.hist(x,30)\n",
    "plt.show()\n",
    "# 4, 5\n",
    "print(\"The 90th percentile is {:.2f}, and he 99th percentile is {:.2f} \".\\\n",
    "      format(np.percentile(x,90),np.percentile(x,99)))\n",
    "# 6\n",
    "y = np.random.normal(0,3,10000)\n",
    "# 7\n",
    "plt.hist(y,30)\n",
    "plt.hist(x,30)\n",
    "plt.show()\n",
    "# 8\n",
    "s = 0\n",
    "for i in range(0,10000):\n",
    "    s += x[i]*y[i]\n",
    "print(\"E[XY] is estimated to be {:.2f}\".format(s/10000))"
   ]
  },
  {
   "cell_type": "markdown",
   "metadata": {},
   "source": [
    "## 10\n",
    "Estimate the integral of the function $f(x)$ on the interval $0\\leq x < 2.5$ assuming we only know the following points from $f$:\n",
    "\n",
    "*Table 1. Dataset containing n=5 observations*\n",
    "\n",
    "| $x_i$ | 0.0 | 0.5 | 1.0 | 1.5 | 2.0 |\n",
    "|-|-|-|-|-|-|\n",
    "| $y_i$ | 6 | 7 | 8 | 4 | 1 |\n"
   ]
  },
  {
   "cell_type": "markdown",
   "metadata": {},
   "source": [
    "**ANSWER**\n",
    "\n",
    "Assume that y is contants within each 0.5 interval. \n",
    "Estimated $\\int f(x)dx = 6 \\times 0.5 + 7 \\times 0.5 +8 \\times 0.5 + 4 \\times 0.5 + 1 \\times 0.5 = 13 $"
   ]
  },
  {
   "cell_type": "markdown",
   "metadata": {
    "collapsed": true
   },
   "source": [
    "# Version Control via Git"
   ]
  },
  {
   "cell_type": "markdown",
   "metadata": {},
   "source": [
    "## 11\n",
    "Complete the [Atlassian Git tutorial](https://www.atlassian.com/git/tutorials/what-is-version-control), specifically the following sections. Try each concept that's presented. For this tutorial, instead of using BitBucket, use Github. Create a github account here if you don't already have one: https://github.com/\n",
    "1. [What is version control](https://www.atlassian.com/git/tutorials/what-is-version-control)\n",
    "2. [What is Git](https://www.atlassian.com/git/tutorials/what-is-git)\n",
    "3. [Install Git](https://www.atlassian.com/git/tutorials/install-git)\n",
    "4. [Setting up a repository](https://www.atlassian.com/git/tutorials/install-git)\n",
    "5. [Saving changes](https://www.atlassian.com/git/tutorials/saving-changes)\n",
    "6. [Inspecting a repository](https://www.atlassian.com/git/tutorials/inspecting-a-repository)\n",
    "7. [Undoing changes](https://www.atlassian.com/git/tutorials/undoing-changes)\n",
    "8. [Rewriting history](https://www.atlassian.com/git/tutorials/rewriting-history)\n",
    "9. [Syncing](https://www.atlassian.com/git/tutorials/syncing)\n",
    "10. [Making a pull request](https://www.atlassian.com/git/tutorials/making-a-pull-request)\n",
    "11. [Using branches](https://www.atlassian.com/git/tutorials/using-branches)\n",
    "12. [Comparing workflows](https://www.atlassian.com/git/tutorials/comparing-workflows)\n",
    "\n",
    "For your answer, affirm that you either completed the tutorial or have previous experience with all of the concepts above. Do this by typing your name below and selecting the situation that applies from the two options in brackets."
   ]
  },
  {
   "cell_type": "markdown",
   "metadata": {},
   "source": [
    "**ANSWER**\n",
    "\n",
    "*I, Shiwen, affirm that I have completed the above tutorial.*"
   ]
  },
  {
   "cell_type": "markdown",
   "metadata": {},
   "source": [
    "## 12\n",
    "Using Github to create a static HTML website:\n",
    "1. Create a branch in your `machine-learning-course` repo called \"gh-pages\" and checkout that branch (this will provide an example of how to create a simple static website using [Github Pages](https://pages.github.com/))\n",
    "2. Create a file called \"index.html\" with the contents \"Hello World\" and add, commit, and push it to that branch.\n",
    "3. Submit the following: (a) a link to your github repository and (b) a link to your new \"Hello World\" website. The latter should be at the address https://[USERNAME].github.io/ECE590-assignment0 (where [USERNAME] is your github username)."
   ]
  },
  {
   "cell_type": "markdown",
   "metadata": {},
   "source": [
    "**ANSWER**\n",
    "\n",
    "github repo:\n",
    "\n",
    "https://github.com/viviancsw/machine-learning-course/tree/gh-pages\n",
    "\n",
    "websit:\n",
    "\n",
    "https://viviancsw.github.io/machine-learning-course/"
   ]
  },
  {
   "cell_type": "markdown",
   "metadata": {
    "collapsed": true
   },
   "source": [
    "# Exploratory Data Analysis\n",
    "## 13\n",
    "Here you'll bring together some of the individual skills that you demonstrated above and create a Jupyter notebook based blog post on data analysis.\n",
    "\n",
    "1. Find a dataset that interests you and relates to a question or problem that you find intriguing\n",
    "2. Using a Jupyter notebook, describe the dataset, the source of the data, and the reason the dataset was of interest.\n",
    "3. Check the data and see if they need to be cleaned: are there missing values? Are there clearly erroneous values? Do two tables need to be merged together? Clean the data so it can be visualized.\n",
    "3. Plot the data, demonstrating interesting features that you discover. Are there any relationships between variables that were surprising or patterns that emerged? Please exercise creativity and curiosity in your plots.\n",
    "4. What insights are you able to take away from exploring the data? Is there a reason why analyzing the dataset you chose is particularly interesting or important? Summarize this as if your target audience was the readership of a major news organization - boil down your findings in a way that is accessible, but still accurate.\n",
    "5. Create a public repository on your github account titled \"machine-learning-course\". In it, create a readme file that contains the heading \"ECE590: Introductory Machine Learning for Data Science\". Add, commit, and push that Jupyter notebook to the master branch. Provide the link to the that post here."
   ]
  },
  {
   "cell_type": "markdown",
   "metadata": {},
   "source": [
    "**ANSWER**\n",
    "\n",
    "https://github.com/viviancsw/machine-learning-course/blob/master/Q12.ipynb"
   ]
  },
  {
   "cell_type": "code",
   "execution_count": null,
   "metadata": {
    "collapsed": true
   },
   "outputs": [],
   "source": []
  }
 ],
 "metadata": {
  "kernelspec": {
   "display_name": "Python 3",
   "language": "python",
   "name": "python3"
  },
  "language_info": {
   "codemirror_mode": {
    "name": "ipython",
    "version": 3
   },
   "file_extension": ".py",
   "mimetype": "text/x-python",
   "name": "python",
   "nbconvert_exporter": "python",
   "pygments_lexer": "ipython3",
   "version": "3.6.3"
  }
 },
 "nbformat": 4,
 "nbformat_minor": 2
}
