{
 "cells": [
  {
   "cell_type": "markdown",
   "metadata": {},
   "source": [
    "## 5. Methods\n",
    "\n",
    "In this section, details about our proposed algorithm will be presented. At first, we will give an overview of the processing steps, then delve into every step one by one.\n",
    "\n",
    "### 5.1 Algorithm Overview.\n",
    "\n",
    "Our algorthms have 3 major steps, as illustrated in Figure 5.1.\n",
    "\n",
    "1. Preprocessing. In this step, we use the original RGB image as input, and erase as many irrelevant regions as possible by using Felzenszwalb's Graph-based image segmentation.\n",
    "\n",
    "2. Feature extraction. The process of feature extraction turns a 3-channel RGB image to $1\\times M$-array, which is the input of classifier training. Our extracted features consist of characteristics about colors, size and distribution.\n",
    "\n",
    "3. Logistic Regression. Here we have only 2 classes, also the data set is not segmented very well. Logistic Regression is a good choice for us.\n",
    "<img src=\"Figure5.1.png\" width=\"600\">\n",
    "<center>Figure 5.1</center>\n"
   ]
  },
  {
   "cell_type": "markdown",
   "metadata": {},
   "source": [
    "### 5.2 Preprocessing.\n",
    "\n",
    "In this step, we first segment an image into regions, and here we use Felzenszwalb's method which measures the evidence for a boundary between two regions using a greedy graph-based representation[1]. Compared with other methods, this algorithm is easy to implement and also has a nice accuracy. The comparison between Felzenszwalb's method and other methods, which are Slic and Watershed) are shown as Figure 5.2.\n",
    "\n",
    "After applying Felzenszwalb's method, the image has been segmented into many different regions. Also, as we've discussed in section 4, the average RGB values of solar photovoltaic arrays are to some extent larger than the average values of other regions. Then, we can set a threshold to filter the irrelevant regions. However, the luminous intensity differs from image to image. So instead of setting a threshold value, we set a ratio value 0.7, which means we will filter 70% regions of the image, the value 0.7 is chosen by multiple experiments. The result is shown as Figure 5.3"
   ]
  },
  {
   "cell_type": "markdown",
   "metadata": {},
   "source": [
    "### 5.3 Features Extraction\n",
    "\n",
    "The input for features extraction is a 3-channel RGB image, which will be turned into a $1\\times M$ array. The first 2 features we want to use are the mean and standard variance of the original image, which is a $1\\times6$ array. Then, in preprocessing, we can get the number of regions that the image can be segmented, and generate a new image with less irrelevant regions, get its mean and standard variance, with the number regions we mentioned above, we have another 3 features, a $1\\times7$ array. \n",
    "\n",
    "Even though the luminous intensity affects the RGB values of the image, we can see the RGB values of solar PV arrays of different images still have some similarities. We pick 10 images with PV arrays, and segment the PV arrays out, get the mean RGB values of them, which is PV_RGB = [99.84, 111.64, 120.47]. Then we can pick the region in the preprocessed image which has the closest RGB to PV_RGB, the RGB distance between the region and PV_RGB can be used as another feature. And, for that region, we can get its RGB mean, standard variance and pixels numbers, which are another 3 features, a $1\\times7$ array. \n",
    "\n",
    "Here, we can see that the value of M is 21. The features we will use to train is a $1\\times21$ array."
   ]
  },
  {
   "cell_type": "markdown",
   "metadata": {},
   "source": [
    "### 5.4 Logistic Regression\n",
    "\n",
    "Logistic regression is one of the most common and efficient way to find the best fitting (yet biologically reasonable) model to describe the relationship between the dichotomous characteristic of response and a set of independent variables. Since the results we will get are just '1' which mean image contain PV and '0' which means don't have that, Logistic regression is definitely our ideal choice.\n",
    "\n",
    "\n",
    "\n"
   ]
  },
  {
   "cell_type": "code",
   "execution_count": null,
   "metadata": {
    "collapsed": true
   },
   "outputs": [],
   "source": [
    "# image 5.2\n",
    "# image 5.3"
   ]
  },
  {
   "cell_type": "markdown",
   "metadata": {},
   "source": [
    "1. Pedro F. Felzenszwalb, Efficient Graph-Based Image Segmentation\n",
    "2. Jordan M. Malof, Kyle Bradbury, Leslie M. Collins, Richard G. Newell, Automatic detection of solar photovoltaic arrays in high resolution aerial imagery"
   ]
  }
 ],
 "metadata": {
  "kernelspec": {
   "display_name": "Python 3",
   "language": "python",
   "name": "python3"
  },
  "language_info": {
   "codemirror_mode": {
    "name": "ipython",
    "version": 3
   },
   "file_extension": ".py",
   "mimetype": "text/x-python",
   "name": "python",
   "nbconvert_exporter": "python",
   "pygments_lexer": "ipython3",
   "version": "3.6.3"
  }
 },
 "nbformat": 4,
 "nbformat_minor": 2
}
