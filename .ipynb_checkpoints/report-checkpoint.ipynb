{
 "cells": [
  {
   "cell_type": "markdown",
   "metadata": {},
   "source": [
    "# Kaggle Competition Report - Island in the sun"
   ]
  },
  {
   "cell_type": "markdown",
   "metadata": {},
   "source": [
    "Team: Sun Trek  -  Shiwen Chen, Jin Zhou, Rongsheng Zhang"
   ]
  },
  {
   "cell_type": "markdown",
   "metadata": {},
   "source": [
    "### Abstract\n",
    "\n",
    "With growing attention and challenge associated with the solar PV, it is of many people's interest to know the number of installed solar PVs. To obtain the data of distributed rooftop solar PVs installed by individuals, this study aims to perform data collection through computer vision algorithm that automatically identify the existence of PV in satellite images. In this study, one approach based on feature extraction is tested to evaluate the feasibility of such algorithms."
   ]
  },
  {
   "cell_type": "markdown",
   "metadata": {},
   "source": [
    "## 1. Introduction"
   ]
  },
  {
   "cell_type": "markdown",
   "metadata": {},
   "source": [
    "The climate change, which is primarily caused by the emission of greenhouse gases such as carbon dioxide, has become a concern for people from the whole world. According to EPA, the electricity sector accounts for 29% of the greenhouse gas emission in the US (EPA, 2015). State governments and concerned parties are trying to alleviate the impact of power generation on the climate by promoting renewable energy such as wind and solar energy. \n",
    "\n",
    "Currently, solar energy only represents a small fraction of the energy mix (0.9% for solar compared with 64% for fossil fuel according to EIA, 2017), but it has the greatest potential as it is abundant and in-exhaustive. However, the growing portion of renewable energy like solar can pose a threat to the reliability of the grid (Zahedi, 2011). The electricity generation for solar PV is intermitted and hard to predict while the power system operator needs precise prediction to keep supply and demand in balance. Moreover, the generation of solar drops suddenly during the sunset and requires fast ramp-up of generation from other sources to make up for the gap, which can be risky and uneconomical.\n",
    "\n",
    "There are several methods to address this reliability challenge, including installation energy storage. However, before taking any measures, it is crucial to get the capacity data of installed solar PV. This data is hard to obtain because many solar PVs are installed on rooftops by individuals. This study aims to collect the rooftop PV installation data from satellite imagery with a computer algorithm. This algorithm can determine whether the rooftop PV is installed by inputting a satellite image of the house, thus realizing the data collection in an automatic and fast manner.\n"
   ]
  },
  {
   "cell_type": "markdown",
   "metadata": {},
   "source": [
    "## 2. Background"
   ]
  },
  {
   "cell_type": "markdown",
   "metadata": {},
   "source": [
    "This section will discuss some of the existing research on similar topics and introduce their algorithms so that they can be taken as a comparison to our method. In particular, Section 2.1 will basically discuss a popular model used in panel detection and will talk about a recent work using this method to handle this problem. Section 2.2 will discuss another recent research that uses a different method which inspires us on our panel detection design.\n",
    "\n",
    "### 2.1 Convolutional Neural Network (CNN) in Panel Detection\n",
    "\n",
    "CNN is a popular method that develops the ideas of both Neocognitron, introduced by Fukushima, and weight-sharing networks. The convolutional neural network puts together the following three advanced approaches: local receptive field, shared weights and spatial subsampling. Basically, CNN model will always contain several layers, such as convolutional layers, pooling layers and fully-connected layers, followed by a classifier to get its prediction of the input features. Recent works have shown that CNN has a convincing advantage on ROC performance. The study by Golovko et al. explores the possibility to use multi-layers to construct the CNN model so as to get a satisfying result on panel detection. It employs three convolutional-pooling layers, followed by three fully-connected layers, to transform a 200x200-pixels figure to a single output signal. By utilizing this method, this design can achieve an AUC of 0.92 and its F1-measure is 0.86 (Golovko et al., 2017).\n",
    "\n",
    "### 2.2 Feature Extraction Method in Panel Detection\n",
    "\n",
    "In the study by Malof et al., the authors talk about a well-designed feature extraction method. Generally, the origin figure will be in a relatively large size and it is hard for the detector to compute on such a large size of data. To lower the computing complexity, a window-based feature extraction method has been proposed. In particular, each figure will be divided into multiple 3x3 small windows and the detector will focus on the center window and its 8 surrounding windows and extracts their mean and variance in RGB matrix to form a feature vector. By combing this method with Random Forest classifier, the design proposed can achieve an R-value of 0.6 (Malof et al., 2016)."
   ]
  },
  {
   "cell_type": "markdown",
   "metadata": {},
   "source": [
    "## 3. Data"
   ]
  },
  {
   "cell_type": "markdown",
   "metadata": {},
   "source": [
    "The data is tif-format satellite images with three color channels (RGB: red, green, and blue).  The size of each picture is 101 * 101 pixels. Most of the image data contain rooftops of houses. Some examples are shown below:\n",
    "  \n",
    "<img src=\"withoutPV.tif\" width=\"500\">\n",
    "<img src=\"withPV.tif\" width=\"500\">\n",
    "<center>*Figure 1. training image without solar PV (top), training image that contains solar PV (bottom)*</center>\n",
    "\n",
    "The training dataset contains in total 1,500 images, among which about one-third of the images contain solar PV (505 images). From the examples in figure 1, we can see that the content of the image is highly variable. For instance, the proportion of vegetation, the color of the roof, and objects such as pools and cars varies for each image. This high variance implies that some features derived from the whole picture (e.g. average color of the picture) may not serve as very ideal features for our classifier.\n",
    "\n",
    "The bottom row of figure 1 shows some characteristics of solar PVs such as being darker (has lower RGB values) comparing with most of the objects in picture. However, the shadows in the picture are also dark and can be confused with PV when using the darker color of PVs as features. While a single cell of the solar PV has a rectangular shape, the shapes of whole solar PV array tend to be irregular. However, the total areas of the solar PVs have a relatively small variance among images. There are also recognizable patterns within the solar PVs, which can be potentially denoted by the variance of color within the PV array."
   ]
  },
  {
   "cell_type": "markdown",
   "metadata": {},
   "source": [
    "## 4. Methods"
   ]
  },
  {
   "cell_type": "markdown",
   "metadata": {},
   "source": [
    "In this section, details about our proposed algorithm will be presented. At first, we will give an overview of the processing steps, then delve into every step one by one.\n",
    "\n",
    "### 4.1 Algorithm Overview.\n",
    "\n",
    "Our algorithms have 3 major steps, as illustrated in Figure 2.\n",
    "\n",
    "1. Preprocessing. In this step, we use the original RGB image as input and erase as many irrelevant regions as possible by using Felzenszwalb's Graph-based image segmentation.\n",
    "\n",
    "2. Feature extraction. The process of feature extraction turns a 3-channel RGB image to $1\\times M$-array, which is the input of classifier training. Our extracted features consist of characteristics about colors, size, and distribution.\n",
    "\n",
    "3. Logistic Regression. Here we are fitting our dataset into 2 classes using many features. Logistic Regression is therefore a good choice to produce binary result and to regularize features.\n",
    "\n",
    "<img src=\"Figure5.1.png\" width=\"750\">\n",
    "<center>*Figure 2. Steps of classification algorithm*</center>\n",
    "\n",
    "\n",
    "### 4.2 Preprocessing.\n",
    "\n",
    "In this step, we first segment an image into regions, and here we use Felzenszwalb's method which measures the evidence for a boundary between two regions using a greedy graph-based representation(Felzenszwalb et al., 2004). Compared with other methods, this algorithm is easy to implement and also has a nice accuracy. The comparison between Felzenszwalb's method and other methods, which are Slic and Watershed) are shown as Figure 3.\n",
    "\n",
    "<img src=\"Figure5.2.png\" width=\"700\">\n",
    "<center>*Figure 3. Segmentation with different methods*</center>\n",
    "\n",
    "After applying Felzenszwalb's method, the image has been segmented into many different regions. Also, as we've discussed in section 4, the average RGB values of solar photovoltaic arrays are to some extent larger than the average values of other regions. Therefore, we can set a threshold to filter the irrelevant regions. However, the luminous intensity differs from image to image. So instead of setting a threshold value, we set a ratio value 0.7, which means we will filter 70% regions of the image. An example of result is shown in Figure 4.\n",
    "\n",
    "<img src=\"Figure5.3.png\" width=\"300\">\n",
    "<center>*Figure 4. Sample image after 70% luminous filter*</center>\n",
    "\n",
    "\n",
    "### 4.3 Features Extraction\n",
    "\n",
    "The input for features extraction is a 3-channel RGB image, which will be turned into a $1\\times M$ array. The first 2 features we want to use are the mean and standard variance of the original image, which is a $1\\times6$ array. Then, in preprocessing, we can get the number of regions that the image can be segmented, and generate a new image with less irrelevant regions, get its mean and standard variance, with the number regions we mentioned above, we have another 3 features, a $1\\times7$ array. \n",
    "\n",
    "Even though the luminous intensity affects the RGB values of the image, we can see the RGB values of solar PV arrays of different images still have some similarities. We pick 10 images with PV arrays, and segment the PV arrays out, get the mean RGB values of them, which is PV_RGB = [99.84, 111.64, 120.47]. Then we can pick the region in the preprocessed image which has the closest RGB to PV_RGB, the RGB distance between the region and PV_RGB can be used as another feature. And, for that region, we can get its RGB mean, standard variance and pixels numbers, which are another 3 features, a $1\\times7$ array. \n",
    "\n",
    "Here, we can see that the value of M is 21. The features we will use to train is a $1\\times21$ array.\n",
    "\n",
    "### 4.4 Logistic Regression\n",
    "\n",
    "Logistic regression is one of the most common and efficient ways to find the best fitting (yet biologically reasonable) model to describe the relationship between the dichotomous characteristic of response and a set of independent variables. Since the results we will get are binary that '1' means the image contains PV and '0' stands for no PV in image, Logistic regression is an ideal choice. Moreover, by including the regularization term in logistic regression, we can reduce the potential high variance caused by large number of features. "
   ]
  },
  {
   "cell_type": "markdown",
   "metadata": {},
   "source": [
    "## 5. Results"
   ]
  },
  {
   "cell_type": "markdown",
   "metadata": {},
   "source": [
    "In this section, we will set up a simulation platform in Python 3.0 and present the simulation result of our panel detection design. To better evaluate the performance of our design, we will compare it with two other classifiers to verify the advantages of our method.\n",
    "\n",
    "### 5.1 Simulation Parameters\n",
    "\n",
    "In the simulation, we set the reference RGB value as 99.84, 111.64 and 120.47, which is generally a mean value of the panel pixels in 10 different images. This reference value is tested using some of the remaining images with PVs that, for most of the times, the reference value is closest to the PV region among all regions.\n",
    "\n",
    "Another parameter setting that need to be mentioned here is the percentage of the 'unrelated' pixels that we choose to discard. In particular, we choose to discard 70% of the pixels that have a relatively high RGB values. 70% is a number which has the best performance during our experiment.\n",
    "\n",
    "### 5.2 Cross Validation\n",
    "\n",
    "Cross validation is method that have been widely used in machine learning field. Basically, cross validation will split the dataset into several folders and for each time of the validation, one specific folder will be used as test dataset and the remaining will be seen as training dataset.\n",
    "In this experiment, we choose to set the split number as 20, which is reasonable number for that the overall dataset has 1500 samples and dividing it into 20 folders will make a rational number of training and testing dataset, without suffering from high computing complexity.\n",
    "\n",
    "### 5.3 Simulation Result\n",
    "\n",
    "In this part, we will present our simulation result. To evaluate our performance, we choose to use ROC curve and AUC as our evaluation metrics. Apart from the proposed design, we take two other classifiers as comparison, to better verify the performance advantages. These two classifiers are set as following: \n",
    "\n",
    "1) a classifier that will randomly guess the label of each figure; \n",
    "\n",
    "2) a classifier that will regard all figures as non-pv figures.\n",
    "\n",
    "<img src=\"ROC.png\" width=\"450\">\n",
    "<center>*Figure 5. ROC of different methods*</center>\n",
    "\n",
    "In Figure 5, it is obvious that the design we propose has a significant advantage over the other classifiers, which is reasonable because our design will 'gain knowledge' from the figure and utilize the knowledge to make the decision.\n",
    "\n",
    "<br />\n",
    "<center>*Table 1. AUC of different methods*</center>\n",
    "\n",
    "| Method | AUC |\n",
    "| :------| :------ |\n",
    "| Proposed design | 0.851 |\n",
    "| Randomly guess | 0.498 |\n",
    "| Non_pv | 0.500 |\n",
    "\n",
    "In Table 1, we can notice that the AUC of the proposed design is significantly larger than the other two methods, which matches the ROC performance above."
   ]
  },
  {
   "cell_type": "markdown",
   "metadata": {},
   "source": [
    "### Conclusions"
   ]
  },
  {
   "cell_type": "markdown",
   "metadata": {},
   "source": [
    "To realize fast collection of rooftop PV data, this study developed an classifier algorithm to determine whether the rooftop PV is installed in the satellite image of a house. In the algorithm, images are preprocessed to remove irrelevant information. The features are then extracted from the remaining part to be used as predictors in the Logistic regression. In this study, we extracted 21 features from the image data and results in a ~ 85% accuracy on test data. The AUC of this method is 0.851, indicating an acceptable level of explanatory power of the algorithm. \n",
    "\n",
    "As the overall accuracy is not high enough to prove the algorithm an idea tool for PV data collection, we propose two ways for future improvement on the basis of the current algorithm:\n",
    "\n",
    "1.\tExploring on regularization methods and tuning parameter. Among all the features we include in the model, some may have less contribution towards the result, and some may have strong correlation with each other thus being redundant. The regularization methods such as ridge and LASSO can reduce the variance caused by those excess features. The algorithm currently relies on the default penalty type and C-value. If a good tuning parameter is used, the performance can be improved.\n",
    "\n",
    "2.\tExploring and experimenting on more effective features. Adding decisive features into the algorithm is the key to the improvement of performance. There are many potential features that may be useful. For instance, instead of the RGB value used in the current algorithm, we can convert it into 1-3 new features using PCA. Those new features would be uncorrelated with high variance thus may be potentially better feature over the old ones.\n"
   ]
  },
  {
   "cell_type": "markdown",
   "metadata": {},
   "source": [
    "### Roles"
   ]
  },
  {
   "cell_type": "markdown",
   "metadata": {},
   "source": [
    "| Member | Roles |\n",
    "| :------| :------ |\n",
    "| Shiwen Chen |  |\n",
    "| Jin Zhou |  |\n",
    "| Rongsheng Zhang | |"
   ]
  },
  {
   "cell_type": "markdown",
   "metadata": {},
   "source": [
    "### References"
   ]
  },
  {
   "cell_type": "markdown",
   "metadata": {},
   "source": [
    "EIA. (2017). Electric Power Monthly. https://www.eia.gov/electricity/monthly/\n",
    "\n",
    "EPA. (2015). Sources of Greenhouse Gas Emissions. https://www.epa.gov/ghgemissions/sources-greenhouse-gas-emissions\n",
    "   \n",
    "Felzenszwalb, P. F., & Huttenlocher, D. P. (2004). Efficient graph-based image segmentation. International journal of computer vision, 59(2), 167-181.\n",
    "\n",
    "Golovko, V., Bezobrazov, S., Kroshchanka, A., Sachenko, A., Komar, M., & Karachka, A. (2017, September). Convolutional neural network based solar photovoltaic panel detection in satellite photos. In Intelligent Data Acquisition and Advanced Computing Systems: Technology and Applications (IDAACS), 2017 9th IEEE International Conference on (Vol. 1, pp. 14-19). IEEE.\n",
    "\n",
    "Malof, J. M., Bradbury, K., Collins, L. M., & Newell, R. G. (2016). Automatic detection of solar photovoltaic arrays in high resolution aerial imagery. Applied energy, 183, 229-240.\n",
    "\n",
    "Zahedi, A. (2011). A review of drivers, benefits, and challenges in integrating renewable energy sources into electricity grid. Renewable and Sustainable Energy Reviews, 15(9), 4775-4779."
   ]
  }
 ],
 "metadata": {
  "kernelspec": {
   "display_name": "Python 3",
   "language": "python",
   "name": "python3"
  },
  "language_info": {
   "codemirror_mode": {
    "name": "ipython",
    "version": 3
   },
   "file_extension": ".py",
   "mimetype": "text/x-python",
   "name": "python",
   "nbconvert_exporter": "python",
   "pygments_lexer": "ipython3",
   "version": "3.6.3"
  }
 },
 "nbformat": 4,
 "nbformat_minor": 2
}
