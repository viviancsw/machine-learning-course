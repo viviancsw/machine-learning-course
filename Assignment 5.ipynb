{
 "cells": [
  {
   "cell_type": "markdown",
   "metadata": {},
   "source": [
    "# Assignment 5 - Reinforcement Learning\n",
    "\n",
    "## *Shiwen Chen*\n",
    "Netid:  *sc538*"
   ]
  },
  {
   "cell_type": "markdown",
   "metadata": {},
   "source": [
    "### Blackjack\n",
    "\n",
    "Your goal is to develop a reinforcement learning technique to learn the optimal policy for winning at blackjack. Here, we're going to modify the rules from traditional blackjack a bit in a way that corresponds to the game presented in Sutton and Barto's *Reinforcement Learning: An Introduction* (Chapter 5, example 5.1). A full implementation of the game is provided and usage examples are detailed in the class header below.\n",
    "\n",
    "The rules of this modified version of the game of blackjack are as follows:\n",
    "\n",
    "- Blackjack is a card game where the goal is to obtain cards that sum to as near as possible to 21 without going over.  We're playing against a fixed (autonomous) dealer.\n",
    "- Face cards (Jack, Queen, King) have point value 10. Aces can either count as 11 or 1, and we're refer to it as 'usable' at 11 (indicating that it could be used as a '1' if need be. This game is placed with a deck of cards sampled with replacement.\n",
    "- The game starts with each (player and dealer) having one face up and one face down card.\n",
    "- The player can request additional cards (hit, or action '1') until they decide to stop (stay, action '0') or exceed 21 (bust, the game ends and player loses).\n",
    "- After the player stays, the dealer reveals their facedown card, and draws until their sum is 17 or greater. If the dealer goes bust the player wins. If neither player nor dealer busts, the outcome (win, lose, draw) is decided by whose sum is closer to 21.  The reward for winning is +1, drawing is 0, and losing is -1.\n",
    "\n",
    "\n",
    "\n",
    "You will accomplish three things:\n",
    "1. Try your hand at this game of blackjack and see what your human reinforcement learning system is able to achieve\n",
    "2. Evaluate a simple policy using Monte Carlo policy evaluation\n",
    "3. Determine an optimal policy using Monte Carlo control\n",
    "\n",
    "*This problem is adapted from David Silver's [excellent series on Reinforcement Learning](http://www0.cs.ucl.ac.uk/staff/d.silver/web/Teaching.html) at University College London*"
   ]
  },
  {
   "cell_type": "markdown",
   "metadata": {},
   "source": [
    "## 1\n",
    "\n",
    "### [10 points] Human reinforcement learning \n",
    "\n",
    "Using the code detailed below, play 50 hands of blackjack, and record your overall average reward. This will help you get accustomed with how the game works, the data structures involved with representing states, and what strategies are most effective."
   ]
  },
  {
   "cell_type": "code",
   "execution_count": 1,
   "metadata": {
    "collapsed": true
   },
   "outputs": [],
   "source": [
    "import numpy as np\n",
    "\n",
    "class Blackjack():\n",
    "    \"\"\"Simple blackjack environment adapted from OpenAI Gym:\n",
    "        https://github.com/openai/gym/blob/master/gym/envs/toy_text/blackjack.py\n",
    "    \n",
    "    Blackjack is a card game where the goal is to obtain cards that sum to as\n",
    "    near as possible to 21 without going over.  They're playing against a fixed\n",
    "    dealer.\n",
    "    \n",
    "    Face cards (Jack, Queen, King) have point value 10.\n",
    "    Aces can either count as 11 or 1, and it's called 'usable' at 11.\n",
    "    This game is placed with a deck sampled with replacement.\n",
    "    \n",
    "    The game starts with each (player and dealer) having one face up and one\n",
    "    face down card.\n",
    "    \n",
    "    The player can request additional cards (hit = 1) until they decide to stop\n",
    "    (stay = 0) or exceed 21 (bust).\n",
    "    \n",
    "    After the player stays, the dealer reveals their facedown card, and draws\n",
    "    until their sum is 17 or greater.  If the dealer goes bust the player wins.\n",
    "    If neither player nor dealer busts, the outcome (win, lose, draw) is\n",
    "    decided by whose sum is closer to 21.  The reward for winning is +1,\n",
    "    drawing is 0, and losing is -1.\n",
    "    \n",
    "    The observation is a 3-tuple of: the players current sum,\n",
    "    the dealer's one showing card (1-10 where 1 is ace),\n",
    "    and whether or not the player holds a usable ace (0 or 1).\n",
    "    \n",
    "    This environment corresponds to the version of the blackjack problem\n",
    "    described in Example 5.1 in Reinforcement Learning: An Introduction\n",
    "    by Sutton and Barto (1998).\n",
    "    \n",
    "    http://incompleteideas.net/sutton/book/the-book.html\n",
    "    \n",
    "    Usage: \n",
    "        Initialize the class:\n",
    "            game = Blackjack()\n",
    "        \n",
    "        Deal the cards:\n",
    "            game.deal()\n",
    "            \n",
    "             (14, 3, False)\n",
    "             \n",
    "            This is the agent's observation of the state of the game:\n",
    "            The first value is the sum of cards in your hand (14 in this case)\n",
    "            The second is the visible card in the dealer's hand (3 in this case)\n",
    "            The Boolean is a flag (False in this case) to indicate whether or \n",
    "                not you have a usable Ace\n",
    "            (Note: if you have a usable ace, the sum will treat the ace as a \n",
    "                value of '11' - this is the case if this Boolean flag is \"true\")\n",
    "            \n",
    "        Take an action: Hit (1) or stay (0)\n",
    "        \n",
    "            Take a hit: game.step(1)\n",
    "            To Stay:    game.step(0)\n",
    "            \n",
    "        The output summarizes the game status:\n",
    "            \n",
    "            ((15, 3, False), 0, False)\n",
    "            \n",
    "            The first tuple (15, 3, False), is the agent's observation of the\n",
    "            state of the game as described above.\n",
    "            The second value (0) indicates the rewards\n",
    "            The third value (False) indicates whether the game is finished\n",
    "    \"\"\"\n",
    "    \n",
    "    def __init__(self):\n",
    "        # 1 = Ace, 2-10 = Number cards, Jack/Queen/King = 10\n",
    "        self.deck   = [1, 2, 3, 4, 5, 6, 7, 8, 9, 10, 10, 10, 10]\n",
    "        self.dealer = []\n",
    "        self.player = []\n",
    "        self.deal()\n",
    "\n",
    "    def step(self, action):\n",
    "        if action == 1:  # hit: add a card to players hand and return\n",
    "            self.player.append(self.draw_card())\n",
    "            if self.is_bust(self.player):\n",
    "                done = True\n",
    "                reward = -1\n",
    "            else:\n",
    "                done = False\n",
    "                reward = 0\n",
    "        else:  # stay: play out the dealers hand, and score\n",
    "            done = True\n",
    "            while self.sum_hand(self.dealer) < 17:\n",
    "                self.dealer.append(self.draw_card())\n",
    "            reward = self.cmp(self.score(self.player), self.score(self.dealer))\n",
    "        return self._get_obs(), reward, done\n",
    "\n",
    "    def _get_obs(self):\n",
    "        return (self.sum_hand(self.player), self.dealer[0], self.usable_ace(self.player))\n",
    "\n",
    "    def deal(self):\n",
    "        self.dealer = self.draw_hand()\n",
    "        self.player = self.draw_hand()\n",
    "        return self._get_obs()\n",
    "    \n",
    "    #------------------------------------------\n",
    "    # Other helper functions\n",
    "    #------------------------------------------\n",
    "    def cmp(self, a, b):\n",
    "        return float(a > b) - float(a < b)\n",
    "    \n",
    "    def draw_card(self):\n",
    "        return int(np.random.choice(self.deck))\n",
    "    \n",
    "    def draw_hand(self):\n",
    "        return [self.draw_card(), self.draw_card()]\n",
    "    \n",
    "    def usable_ace(self,hand):  # Does this hand have a usable ace?\n",
    "        return 1 in hand and sum(hand) + 10 <= 21\n",
    "    \n",
    "    def sum_hand(self,hand):  # Return current hand total\n",
    "        if self.usable_ace(hand):\n",
    "            return sum(hand) + 10\n",
    "        return sum(hand)\n",
    "    \n",
    "    def is_bust(self,hand):  # Is this hand a bust?\n",
    "        return self.sum_hand(hand) > 21\n",
    "    \n",
    "    def score(self,hand):  # What is the score of this hand (0 if bust)\n",
    "        return 0 if self.is_bust(hand) else self.sum_hand(hand)"
   ]
  },
  {
   "cell_type": "markdown",
   "metadata": {},
   "source": [
    "Here's an example of how it works to get you started:"
   ]
  },
  {
   "cell_type": "code",
   "execution_count": 180,
   "metadata": {},
   "outputs": [
    {
     "name": "stdout",
     "output_type": "stream",
     "text": [
      "(21, 5, True)\n",
      "((21, 5, False), 0, False)\n"
     ]
    }
   ],
   "source": [
    "import numpy as np\n",
    "\n",
    "# Initialize the class:\n",
    "game = Blackjack()\n",
    "\n",
    "# Deal the cards:\n",
    "s0 = game.deal()\n",
    "print(s0)\n",
    "\n",
    "# Take an action: Hit = 1 or stay = 0. Here's a hit:\n",
    "s1 = game.step(1)\n",
    "print(s1)\n",
    "\n",
    "# If you wanted to stay:\n",
    "# game.step(2)\n",
    "\n",
    "# When it's gameover, just redeal:\n",
    "# game.deal()"
   ]
  },
  {
   "cell_type": "markdown",
   "metadata": {},
   "source": [
    "**ANSWER**"
   ]
  },
  {
   "cell_type": "code",
   "execution_count": 3,
   "metadata": {
    "collapsed": true
   },
   "outputs": [],
   "source": [
    "result = []"
   ]
  },
  {
   "cell_type": "code",
   "execution_count": 148,
   "metadata": {},
   "outputs": [
    {
     "name": "stdout",
     "output_type": "stream",
     "text": [
      "(6, 1, False)\n"
     ]
    }
   ],
   "source": [
    "#start\n",
    "game = Blackjack()\n",
    "s0 = game.deal()\n",
    "print(s0)"
   ]
  },
  {
   "cell_type": "code",
   "execution_count": 149,
   "metadata": {},
   "outputs": [
    {
     "name": "stdout",
     "output_type": "stream",
     "text": [
      "((16, 1, False), 0, False)\n"
     ]
    }
   ],
   "source": [
    "#hit\n",
    "s_h = game.step(1)\n",
    "print(s_h)\n",
    "#record result\n",
    "if s_h[2] == True:\n",
    "    result.append(s_h[1])"
   ]
  },
  {
   "cell_type": "code",
   "execution_count": 150,
   "metadata": {},
   "outputs": [
    {
     "name": "stdout",
     "output_type": "stream",
     "text": [
      "((16, 1, False), -1.0, True)\n"
     ]
    }
   ],
   "source": [
    "#stay\n",
    "s_s = game.step(0)\n",
    "print(s_s)\n",
    "#record result\n",
    "result.append(s_s[1])"
   ]
  },
  {
   "cell_type": "code",
   "execution_count": 158,
   "metadata": {},
   "outputs": [
    {
     "name": "stdout",
     "output_type": "stream",
     "text": [
      "Results: [-1.0, 1.0, -1.0, 0.0, 1.0, 1.0, 1.0, -1.0, 1.0, 1.0, 1.0, 1.0, -1.0, -1.0, 0.0, 1.0, 1.0, 1.0, 1.0, 0.0, -1.0, -1, 1.0, 1.0, -1, -1.0, 1.0, 1.0, 1.0, -1, -1.0, -1, 0.0, 1.0, 1.0, -1, 1.0, 1.0, 1.0, 1.0, 1.0, 1.0, -1.0, -1.0, 1.0, -1, -1, -1.0, -1, -1.0]\n",
      "Overall average reward: 0.12\n"
     ]
    }
   ],
   "source": [
    "print(\"Results:\", result)\n",
    "print(\"Overall average reward:\", np.mean(result))"
   ]
  },
  {
   "cell_type": "markdown",
   "metadata": {},
   "source": [
    "## 2\n",
    "\n",
    "### [40 points] Perform Monte Carlo Policy Evaluation\n",
    "\n",
    "Thinking that you want to make your millions playing blackjack, you decide to test out a policy for playing this game. Your idea is an aggressive strategy: always hit unless the total of your cards adds up to 20 or 21, in which case you stay.\n",
    "\n",
    "**(a)** Use Monte Carlo policy evaluation to evaluate the expected returns from each state. Create plots for these similar to Sutton and Barto, Figure 5.1 where you plot the expected returns for each state. In this case create 2 plots:\n",
    "1. When you have a useable ace, plot the state space with the dealer's card on the x-axis, and the player's sum on the y-axis, and use the 'RdBu' matplotlib colormap and `imshow` to plot the value of each state under the policy described above. The domain of your x and y axes should include all possible states (2 to 21 for the player sum, and 1 to 10 for the dealer's card). Do this for for 10,000 episodes.\n",
    "2. Repeat (1) for the states without a usable ace.\n",
    "3. Repeat (1) for the case of 500,000 episodes.\n",
    "4. Relwat (2) for the case of 500,000 episodes.\n",
    "\n",
    "**(b)** Show a plot of the overall average reward per episode vs the number of episodes. For both the 10,000 episode case and the 500,000 episode case, record the overall average reward for this policy and report that value. "
   ]
  },
  {
   "cell_type": "markdown",
   "metadata": {},
   "source": [
    "**ANSWER**"
   ]
  },
  {
   "cell_type": "code",
   "execution_count": 196,
   "metadata": {},
   "outputs": [],
   "source": [
    "def naive_policy(s): #hit if <20\n",
    "    if type(s[0])==int: #for newly dealed deck\n",
    "        if s[0]>19: \n",
    "            s = game.step(0)\n",
    "        else: \n",
    "            s = game.step(1)\n",
    "    else: #for hit deck\n",
    "        if s[0][0]>19: \n",
    "            s = game.step(0)\n",
    "        else: \n",
    "            s = game.step(1)\n",
    "    return s"
   ]
  },
  {
   "cell_type": "code",
   "execution_count": 402,
   "metadata": {
    "collapsed": true
   },
   "outputs": [],
   "source": [
    "def get_state_value(loop):\n",
    "    v0 = np.zeros((2,10,20)) #v0[0/1 whether have useable ace, dealer, player]\n",
    "    v0_count = np.zeros((2,10,20))\n",
    "    for i in range(loop):\n",
    "        hist = [] #history\n",
    "        s = game.deal() #generate an episode\n",
    "        ace = s[2]*1\n",
    "        dealer = s[1]\n",
    "        player = s[0]\n",
    "        while True:\n",
    "            hist.append((ace,dealer,player))\n",
    "            v0_count[ace,dealer-1,player-2] += 1\n",
    "            s = naive_policy(s)\n",
    "            if s[2]: #if ended \n",
    "                for i in range(len(hist)): #update v0\n",
    "                    t = len(hist)-i-1\n",
    "                    ace = hist[t][0]\n",
    "                    dealer = hist[t][1]\n",
    "                    player = hist[t][2]\n",
    "                    count = v0_count[ace,dealer-1,player-2]\n",
    "                    v0[ace,dealer-1,player-2] = (v0[ace,dealer-1,player-2]*(count-1) + s[1])/count\n",
    "                break\n",
    "            ace = s[0][2]*1\n",
    "            dealer = s[0][1]\n",
    "            player = s[0][0]\n",
    "    return v0"
   ]
  },
  {
   "cell_type": "code",
   "execution_count": 404,
   "metadata": {},
   "outputs": [],
   "source": [
    "game = Blackjack()\n",
    "v0_1=get_state_value(10000)\n",
    "v0_2=get_state_value(500000)"
   ]
  },
  {
   "cell_type": "code",
   "execution_count": 405,
   "metadata": {},
   "outputs": [
    {
     "data": {
      "image/png": "[encoded data removed]",
      "text/plain": [
       "<matplotlib.figure.Figure at 0x10b1f17f0>"
      ]
     },
     "metadata": {},
     "output_type": "display_data"
    }
   ],
   "source": [
    "import matplotlib.pyplot as plt\n",
    "plt.figure(figsize=(12,15))\n",
    "plt.subplot(2,2,1)\n",
    "plt.imshow(v0_1[0].T,cmap='RdBu',extent=[1,11,21,2])\n",
    "plt.xlabel(\"dealer's card\")\n",
    "plt.ylabel(\"10,000 episodes\\nplayer's sum\")\n",
    "plt.title(\"state value without useable Ace\")\n",
    "plt.subplot(2,2,2)\n",
    "plt.imshow(v0_1[1].T,cmap='RdBu',extent=[1,11,21,2])\n",
    "plt.xlabel(\"dealer's card\")\n",
    "plt.ylabel(\"player's sum\")\n",
    "plt.title(\"state value with useable Ace\")\n",
    "plt.subplot(2,2,3)\n",
    "plt.imshow(v0_2[0].T,cmap='RdBu',extent=[1,11,21,2])\n",
    "plt.xlabel(\"dealer's card\")\n",
    "plt.ylabel(\"500,000 episodes\\nplayer's sum\")\n",
    "plt.subplot(2,2,4)\n",
    "plt.imshow(v0_2[1].T,cmap='RdBu',extent=[1,11,21,2])\n",
    "plt.xlabel(\"dealer's card\")\n",
    "plt.ylabel(\"player's sum\")\n",
    "plt.show()"
   ]
  },
  {
   "cell_type": "code",
   "execution_count": 320,
   "metadata": {
    "collapsed": true
   },
   "outputs": [],
   "source": [
    "results = []\n",
    "for i in range(500000):\n",
    "    s = game.deal()\n",
    "    while True:\n",
    "        s = naive_policy(s)\n",
    "        if s[2]: #if ended\n",
    "            results.append(s[1])\n",
    "            break"
   ]
  },
  {
   "cell_type": "code",
   "execution_count": 342,
   "metadata": {},
   "outputs": [],
   "source": [
    "avg_reward = []\n",
    "avg_reward.append(results[0])\n",
    "for i in range(499999):\n",
    "    avg_reward.append((avg_reward[i]*(i+1)+results[i+1])/(i+2))"
   ]
  },
  {
   "cell_type": "code",
   "execution_count": 353,
   "metadata": {},
   "outputs": [
    {
     "data": {
      "image/png": "[encoded data removed]",
      "text/plain": [
       "<matplotlib.figure.Figure at 0x125e6c0f0>"
      ]
     },
     "metadata": {},
     "output_type": "display_data"
    },
    {
     "name": "stdout",
     "output_type": "stream",
     "text": [
      "overall average reward for 10,000 episodes:-0.37,\n",
      "for 500,000 episodes:-0.35\n"
     ]
    }
   ],
   "source": [
    "plt.figure(figsize=(18,5))\n",
    "plt.plot(avg_reward)\n",
    "plt.title(\"overall average reward per episode vs number of episodes\")\n",
    "plt.xlabel(\"episodes\")\n",
    "plt.ylabel(\"overall average reward\")\n",
    "plt.show()\n",
    "print(\"overall average reward for 10,000 episodes:{:.2f},\\nfor 500,000 episodes:{:.2f}\"\n",
    "      .format(avg_reward[9999],avg_reward[499999]))"
   ]
  },
  {
   "cell_type": "markdown",
   "metadata": {},
   "source": [
    "## 3\n",
    "\n",
    "### [40 points] Perform Monte Carlo Control\n",
    "\n",
    "**(a)** Using Monte Carlo Control through policy iteration, estimate the optimal policy for playing our modified blackjack game to maximize rewards. \n",
    "\n",
    "In doing this, use the following assumptions:\n",
    "1. Initialize the value function and the state value function to all zeros\n",
    "2. Keep a running tally of the number of times the agent visited each state and chose an action. $N(s_t,a_t)$ is the number of times action $a$ has been selected from state $s$. You'll need this to compute the running average. You can implement an online average as: $\\bar{x}_{t} = \\frac{1}{N}x_t + \\frac{N-1}{N}\\bar{x}_{t-1}$ \n",
    "3. Use an $\\epsilon$-greedy exploration strategy with $\\epsilon_t = \\frac{N_0}{N_0 + N(s_t)}$, where we define $N_0 = 100$. Vary $N_0$ as needed.\n",
    "\n",
    "Show your result by plotting the optimal value function: $V^*(s) = max_a Q^*(s,a)$ and the optimal policy $\\pi^*(s)$. Create plots for these similar to Sutton and Barto, Figure 5.2 in the new draft edition, or 5.5 in the original edition. Your results SHOULD be very similar to the plots in that text. For these plots include:\n",
    "1. When you have a useable ace, plot the state space with the dealer's card on the x-axis, and the player's sum on the y-axis, and use the 'RdBu' matplotlib colormap and `imshow` to plot the value of each state under the policy described above. The domain of your x and y axes should include all possible states (2 to 21 for the player sum, and 1 to 10 for the dealer's visible card).\n",
    "2. Repeat (1) for the states without a usable ace.\n",
    "3. A plot of the optimal policy $\\pi^*(s)$ for the states with a usable ace (this plot could be an imshow plot with binary values).\n",
    "4. A plot of the optimal policy $\\pi^*(s)$ for the states without a usable ace (this plot could be an imshow plot with binary values).\n",
    "\n",
    "**(b)** Show a plot of the overall average reward per episode vs the number of episodes. What is the average reward your control strategy was able to achieve?\n",
    "\n",
    "*Note: convergence of this algorithm is extremely slow. You may need to let this run a few million episodes before the policy starts to converge. You're not expected to get EXACTLY the optimal policy, but it should be visibly close.* "
   ]
  },
  {
   "cell_type": "markdown",
   "metadata": {},
   "source": [
    "**ANSWER**"
   ]
  },
  {
   "cell_type": "code",
   "execution_count": 446,
   "metadata": {},
   "outputs": [],
   "source": [
    "class mc_control:\n",
    "    def __init__(self): # intitalize value function\n",
    "        self.q = np.zeros((2,10,20,2)) #action value function, 0 is hold, 1 is hit \n",
    "        #self.v = np.zeros((2,10,20)) #state value function\n",
    "        self.n = np.zeros((2,10,20,2)) #number of times action a selected\n",
    "\n",
    "    def ep_greedy(self,ace,dealer,player): #choose action according to state\n",
    "        n0 = 100\n",
    "        nt = sum(self.n[ace,dealer-1,player-2,:])\n",
    "        ep = n0/(n0+nt)\n",
    "        if np.random.random() < 1 - ep: #choose a* with probability 1 − ep\n",
    "            a = np.argmax(self.q[ace,dealer-1,player-2,:])\n",
    "        else: # random pick\n",
    "            a = 1\n",
    "            if np.random.random() >= 0.5: a = 0\n",
    "        return a\n",
    "    \n",
    "    def policy_eval(self,loop):\n",
    "        game = Blackjack()\n",
    "        for i in range(loop):\n",
    "            hist = [] #history\n",
    "            s = game.deal()\n",
    "            ace = s[2]*1\n",
    "            dealer = s[1]\n",
    "            player = s[0]\n",
    "            while True:\n",
    "                action = self.ep_greedy(ace,dealer,player) #get action\n",
    "                hist.append((ace,dealer,player,action))\n",
    "                self.n[ace,dealer-1,player-2,action] += 1\n",
    "                s = game.step(action)\n",
    "                if s[2]: #if ended \n",
    "                    for i in range(len(hist)): #update v0\n",
    "                        t = len(hist)-i-1\n",
    "                        ace = hist[t][0]\n",
    "                        dealer = hist[t][1]\n",
    "                        player = hist[t][2]\n",
    "                        action = hist[t][3]\n",
    "                        count = self.n[ace,dealer-1,player-2,action]\n",
    "                        #count_v = sum(self.n[ace,dealer-1,player-2,:])\n",
    "                        #self.v[ace,dealer-1,player-2] = (self.v[ace,dealer-1,player-2]*(count_v-1) + s[1])/count_v\n",
    "                        self.q[ace,dealer-1,player-2,action] = (self.q[ace,dealer-1,player-2,action]*(count-1) + s[1])/count\n",
    "                    break\n",
    "                ace = s[0][2]*1\n",
    "                dealer = s[0][1]\n",
    "                player = s[0][0]\n",
    "        return self.q, self.n"
   ]
  },
  {
   "cell_type": "code",
   "execution_count": 492,
   "metadata": {},
   "outputs": [],
   "source": [
    "mc = mc_control()\n",
    "q, n = mc.policy_eval(2000000)"
   ]
  },
  {
   "cell_type": "code",
   "execution_count": 516,
   "metadata": {},
   "outputs": [],
   "source": [
    "nt = np.sum(n,axis=3)\n",
    "opt_policy = np.argmax(q,axis=3) #greedy policy\n",
    "policy = np.subtract(opt_policy,2*(nt==0)) #negative value for N/A points\n",
    "v = np.max(q,axis=3)"
   ]
  },
  {
   "cell_type": "code",
   "execution_count": 517,
   "metadata": {},
   "outputs": [
    {
     "name": "stdout",
     "output_type": "stream",
     "text": [
      "\n",
      "State value:\n"
     ]
    },
    {
     "data": {
      "image/png": "[encoded data removed]",
      "text/plain": [
       "<matplotlib.figure.Figure at 0x1249cce48>"
      ]
     },
     "metadata": {},
     "output_type": "display_data"
    },
    {
     "name": "stdout",
     "output_type": "stream",
     "text": [
      "Optimal Policy:\n"
     ]
    },
    {
     "data": {
      "image/png": "[encoded data removed]",
      "text/plain": [
       "<matplotlib.figure.Figure at 0x125daec50>"
      ]
     },
     "metadata": {},
     "output_type": "display_data"
    }
   ],
   "source": [
    "print(\"\\nState value:\")\n",
    "plt.figure(figsize=(12,8))\n",
    "plt.subplot(1,2,1)\n",
    "plt.imshow(v[0].T,cmap='RdBu',extent=[1,11,21,2])\n",
    "plt.xlabel(\"dealer's card\")\n",
    "plt.ylabel(\"player's sum\")\n",
    "plt.title(\"state value without useable Ace\")\n",
    "plt.subplot(1,2,2)\n",
    "plt.imshow(v[1].T,cmap='RdBu',extent=[1,11,21,2])\n",
    "plt.xlabel(\"dealer's card\")\n",
    "plt.ylabel(\"player's sum\")\n",
    "plt.title(\"state value with useable Ace\")\n",
    "plt.show()\n",
    "print(\"Optimal Policy:\")\n",
    "plt.figure(figsize=(12,8))\n",
    "plt.subplot(1,2,1)\n",
    "plt.imshow(policy[0].T,cmap='bwr',extent=[1,11,21,2])\n",
    "plt.xlabel(\"dealer's card\")\n",
    "plt.ylabel(\"player's sum\")\n",
    "plt.title(\"policy without useable Ace (Red: Hit, Pink: Hold, Blue: N/A)\")\n",
    "plt.subplot(1,2,2)\n",
    "plt.imshow(policy[1].T,cmap='bwr',extent=[1,11,21,2])\n",
    "plt.xlabel(\"dealer's card\")\n",
    "plt.ylabel(\"player's sum\")\n",
    "plt.title(\"policy with useable Ace (Red: Hit, Pink: Hold, Blue: N/A)\")\n",
    "plt.show()"
   ]
  },
  {
   "cell_type": "code",
   "execution_count": 521,
   "metadata": {},
   "outputs": [],
   "source": [
    "results = []\n",
    "for i in range(100000):\n",
    "    s = game.deal()\n",
    "    ace = s[2]*1\n",
    "    dealer = s[1]\n",
    "    player = s[0]\n",
    "    while True:\n",
    "        action = opt_policy[ace,dealer-1,player-2]\n",
    "        s = game.step(action)\n",
    "        if s[2]:\n",
    "            results.append(s[1])\n",
    "            break\n",
    "        ace = s[0][2]*1\n",
    "        dealer = s[0][1]\n",
    "        player = s[0][0]"
   ]
  },
  {
   "cell_type": "code",
   "execution_count": 522,
   "metadata": {
    "collapsed": true
   },
   "outputs": [],
   "source": [
    "avg_reward = []\n",
    "avg_reward.append(results[0])\n",
    "for i in range(99999):\n",
    "    avg_reward.append((avg_reward[i]*(i+1)+results[i+1])/(i+2))"
   ]
  },
  {
   "cell_type": "code",
   "execution_count": 525,
   "metadata": {},
   "outputs": [
    {
     "data": {
      "image/png": "[encoded data removed]",
      "text/plain": [
       "<matplotlib.figure.Figure at 0x111fbad30>"
      ]
     },
     "metadata": {},
     "output_type": "display_data"
    },
    {
     "name": "stdout",
     "output_type": "stream",
     "text": [
      "overall average reward for 50 episodes:0.20,\n",
      "for 100,000 episodes:-0.05\n"
     ]
    }
   ],
   "source": [
    "plt.figure(figsize=(18,5))\n",
    "plt.plot(avg_reward)\n",
    "plt.title(\"overall average reward per episode vs number of episodes\")\n",
    "plt.xlabel(\"episodes\")\n",
    "plt.ylabel(\"overall average reward\")\n",
    "plt.show()\n",
    "print(\"overall average reward for 50 episodes:{:.2f},\\nfor 100,000 episodes:{:.2f}\"\n",
    "      .format(avg_reward[49],avg_reward[99999]))"
   ]
  },
  {
   "cell_type": "markdown",
   "metadata": {},
   "source": [
    "## 4\n",
    "\n",
    "### [10 points] Discuss your findings\n",
    "\n",
    "Compare the performance of your human control policy, the naive policy from question 2, and the optimal control policy in question 3. \n",
    "**(a)** Which performs best? Why is this the case? \n",
    "**(b)** Could you have created a better policy if you knew the full Markov Decision Process for this environment? Why or why not?"
   ]
  },
  {
   "cell_type": "markdown",
   "metadata": {},
   "source": [
    "**ANSWER**"
   ]
  },
  {
   "cell_type": "markdown",
   "metadata": {},
   "source": [
    "By comparing the 3 approaches, we find that the overall average reward of optimal control policy (-0.05) is higher than that of the naive policy (-0.35). The performance of human control seems higher than both (0.12), but it can be caused by the small number of episode (50). We can see that the average reward by control policy is also high at 50 episodes (0.20) but dropped and stablized at -0.05.\n",
    "\n",
    "The control policy is better than the naive policy because instead of sticking with one policy, it improves policy according to the expected return of each action. It also has a more flexible decision boundary that better represents the true optimal decision. The policy concluded from Monte Carlo control is actually similar to the human control policy, therefore the performance can also be similar.\n",
    "\n",
    "If we have full knowledge about the Markov Decision Process, we can develop a better policy. Because through the iteration in question 3, we are exploring both the MDP and the policy at the same time. Therefore, policies are constantly dervied from a estimate version of the environment, making it worse than the one derived from perfect MDP. However, if the number of interation is large enough that we have a near perfect estimation of the MDP, the performance can be similar."
   ]
  }
 ],
 "metadata": {
  "kernelspec": {
   "display_name": "Python 3",
   "language": "python",
   "name": "python3"
  },
  "language_info": {
   "codemirror_mode": {
    "name": "ipython",
    "version": 3
   },
   "file_extension": ".py",
   "mimetype": "text/x-python",
   "name": "python",
   "nbconvert_exporter": "python",
   "pygments_lexer": "ipython3",
   "version": "3.6.3"
  }
 },
 "nbformat": 4,
 "nbformat_minor": 2
}
